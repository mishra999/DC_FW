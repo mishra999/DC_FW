{
 "cells": [
  {
   "cell_type": "markdown",
   "metadata": {},
   "source": [
    "In shiftout_sample:\n",
    "removed:\n",
    "1. sr_asic_sel generated from asic_mask input in shiftout_window\n",
    "2. also removed,     \n",
    "    signal asic_checklist       : std_logic_vector(4 downto 0) := (others => '0');\n",
    "    signal sr_asic_sel          : std_logic_vector(4 downto 0) := \"00000\";"
   ]
  },
  {
   "cell_type": "code",
   "execution_count": null,
   "metadata": {},
   "outputs": [],
   "source": []
  }
 ],
 "metadata": {
  "language_info": {
   "name": "python"
  },
  "orig_nbformat": 4
 },
 "nbformat": 4,
 "nbformat_minor": 2
}
